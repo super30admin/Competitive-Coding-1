{
 "cells": [
  {
   "cell_type": "code",
   "execution_count": 13,
   "metadata": {},
   "outputs": [],
   "source": [
    "def findElement(nums):\n",
    "    low = 0\n",
    "    high = len(nums)-1\n",
    "    \n",
    "    while(high-low >=2):\n",
    "        mid =int(low+(high-low)/2)\n",
    "        midIdxDiff = nums[mid]-mid \n",
    "        lowIdxDiff = nums[low] - low \n",
    "        highIdxDiff = nums[high]-high \n",
    "        if(midIdxDiff==lowIdxDiff):\n",
    "            low = mid\n",
    "        elif(midIdxDiff==highIdxDiff):\n",
    "            high = mid\n",
    "    return int((nums[low]+nums[high])/2)\n",
    "    \n",
    "    "
   ]
  },
  {
   "cell_type": "code",
   "execution_count": 14,
   "metadata": {},
   "outputs": [
    {
     "data": {
      "text/plain": [
       "7"
      ]
     },
     "execution_count": 14,
     "metadata": {},
     "output_type": "execute_result"
    }
   ],
   "source": [
    "###### + [0,1,2,3,4,5,6]\n",
    "nums =   [1,2,3,4,5,6,8]\n",
    "findElement(nums)"
   ]
  },
  {
   "cell_type": "code",
   "execution_count": null,
   "metadata": {},
   "outputs": [],
   "source": []
  }
 ],
 "metadata": {
  "kernelspec": {
   "display_name": "Python 3",
   "language": "python",
   "name": "python3"
  },
  "language_info": {
   "codemirror_mode": {
    "name": "ipython",
    "version": 3
   },
   "file_extension": ".py",
   "mimetype": "text/x-python",
   "name": "python",
   "nbconvert_exporter": "python",
   "pygments_lexer": "ipython3",
   "version": "3.6.4"
  }
 },
 "nbformat": 4,
 "nbformat_minor": 2
}
