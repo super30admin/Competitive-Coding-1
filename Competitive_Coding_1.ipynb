{
  "nbformat": 4,
  "nbformat_minor": 0,
  "metadata": {
    "colab": {
      "name": "Competitive Coding 1.ipynb",
      "provenance": []
    },
    "kernelspec": {
      "name": "python3",
      "display_name": "Python 3"
    },
    "language_info": {
      "name": "python"
    }
  },
  "cells": [
    {
      "cell_type": "markdown",
      "source": [
        "Find Missing Number in a sorted array"
      ],
      "metadata": {
        "id": "qBRXDp1uZE8o"
      }
    },
    {
      "cell_type": "code",
      "execution_count": 1,
      "metadata": {
        "colab": {
          "base_uri": "https://localhost:8080/"
        },
        "id": "skfw-irJZCE-",
        "outputId": "31ce41d2-ba4b-4b7f-9758-34de8e673161"
      },
      "outputs": [
        {
          "output_type": "stream",
          "name": "stdout",
          "text": [
            "2\n"
          ]
        }
      ],
      "source": [
        "def BinarySearch(nums):\n",
        "  low=0\n",
        "  high=len(nums)\n",
        "  while(low <= high):\n",
        "    mid=(low+high)//2\n",
        "    if high-low==1 and nums[high]-nums[low]==2:\n",
        "      return nums[low]+1\n",
        "    if (mid-low == nums[mid]-nums[low]):\n",
        "      low=mid\n",
        "    else:\n",
        "      high=mid\n",
        "  return 1\n",
        "\n",
        "nums=[1,3,4,5,6]\n",
        "print(BinarySearch(nums))"
      ]
    },
    {
      "cell_type": "markdown",
      "source": [
        "Priority Queue using Linked List"
      ],
      "metadata": {
        "id": "LoV57FHpZ9vm"
      }
    },
    {
      "cell_type": "code",
      "source": [
        "class PriorityQueueNode:\n",
        "\t\n",
        "  def __init__(self, value, pr):\n",
        "    \n",
        "    self.data = value\n",
        "    self.priority = pr\n",
        "    self.next = None\n",
        "\t\t\n",
        "class PriorityQueue:\n",
        "\t\n",
        "\tdef __init__(self):\n",
        "\t\t\n",
        "\t\tself.front = None\n",
        "\n",
        "\tdef isEmpty(self):\n",
        "\t\t\n",
        "\t\treturn True if self.front == None else False\n",
        "\n",
        "\tdef push(self, value, priority):\n",
        "\t\tif self.isEmpty() == True:\n",
        "\t\t\tself.front = PriorityQueueNode(value,\n",
        "\t\t\t\t\t\t\t\t\t\tpriority)\n",
        "\t\t\treturn 1\n",
        "\t\t\t\n",
        "\t\telse:\n",
        "\t\t\tif self.front.priority > priority:\n",
        "\t\t\t\tnewNode = PriorityQueueNode(value, priority)\n",
        "\t\t\t\tnewNode.next = self.front\n",
        "\t\t\t\tself.front = newNode\n",
        "\t\t\t\treturn 1\n",
        "\t\t\t\t\n",
        "\t\t\telse:\n",
        "\t\t\t\ttemp = self.front\t\t\t\n",
        "\t\t\t\twhile temp.next:\n",
        "\t\t\t\t\tif priority <= temp.next.priority:\n",
        "\t\t\t\t\t\tbreak\n",
        "\t\t\t\t\t\n",
        "\t\t\t\t\ttemp = temp.next\n",
        "\t\t\t\t\n",
        "\t\t\t\tnewNode = PriorityQueueNode(value, priority)\n",
        "\t\t\t\tnewNode.next = temp.next\n",
        "\t\t\t\ttemp.next = newNode\n",
        "\t\t\t\treturn 1\n",
        "\n",
        "\tdef pop(self):\n",
        "\n",
        "\t\tif self.isEmpty() == True:\n",
        "\t\t\treturn\t\n",
        "\t\telse:\n",
        "\t\t\tself.front = self.front.next\n",
        "\t\t\treturn 1\n",
        "\n",
        "\tdef peek(self):\n",
        "\t\tif self.isEmpty() == True:\n",
        "\t\t\treturn\n",
        "\t\telse:\n",
        "\t\t\treturn self.front.data\n",
        "\n",
        "\tdef traverse(self):\n",
        "\t\tif self.isEmpty() == True:\n",
        "\t\t\treturn \"Queue is Empty!\"\n",
        "\t\telse:\n",
        "\t\t\ttemp = self.front\n",
        "\t\t\twhile temp:\n",
        "\t\t\t\tprint(temp.data, end = \" \")\n",
        "\t\t\t\ttemp = temp.next\n",
        "\n",
        "pq = PriorityQueue()\n",
        "pq.push(4, 1)\n",
        "pq.push(5, 2)\n",
        "pq.push(6, 3)\n",
        "pq.push(7, 0)\n",
        "pq.traverse()\n",
        "pq.pop()\n",
        "\n",
        "\n"
      ],
      "metadata": {
        "colab": {
          "base_uri": "https://localhost:8080/"
        },
        "id": "gzvhQK_oZ9f1",
        "outputId": "75dfee35-004a-4be9-90ee-2482b3e47615"
      },
      "execution_count": 3,
      "outputs": [
        {
          "output_type": "stream",
          "name": "stdout",
          "text": [
            "7 4 5 6 "
          ]
        },
        {
          "output_type": "execute_result",
          "data": {
            "text/plain": [
              "1"
            ]
          },
          "metadata": {},
          "execution_count": 3
        }
      ]
    }
  ]
}