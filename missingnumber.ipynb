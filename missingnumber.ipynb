{
 "cells": [
  {
   "cell_type": "code",
   "execution_count": 17,
   "metadata": {},
   "outputs": [
    {
     "name": "stdout",
     "output_type": "stream",
     "text": [
      "mid 2\n",
      "True\n",
      "mid 4\n",
      "False\n",
      "4\n"
     ]
    }
   ],
   "source": [
    "List = [1,2,3,5,8,9]\n",
    "\n",
    "class Solutions:\n",
    "    def Findmissingnumber(ListNumber:List)-> int:\n",
    "        low = 0\n",
    "        n = len(ListNumber)\n",
    "        high = n-1\n",
    "\n",
    "        while low <= high:\n",
    "            mid = (low + high) //2\n",
    "            print(\"mid\",mid)\n",
    "            print(ListNumber[mid]== mid+1)\n",
    "\n",
    "            if ListNumber[mid]== mid+1:\n",
    "                low = mid+1\n",
    "    \n",
    "            elif ListNumber[mid] != mid+1 and ListNumber[mid-1] != mid-1  :\n",
    "                return mid\n",
    "            else:\n",
    "                high = mid-1\n",
    "\n",
    "                \n",
    "                \n",
    "        \n",
    "    \n",
    "           \n",
    "         \n",
    "         \n",
    "    print(Findmissingnumber(List))\n"
   ]
  }
 ],
 "metadata": {
  "kernelspec": {
   "display_name": "Python 3.10.4 64-bit",
   "language": "python",
   "name": "python3"
  },
  "language_info": {
   "codemirror_mode": {
    "name": "ipython",
    "version": 3
   },
   "file_extension": ".py",
   "mimetype": "text/x-python",
   "name": "python",
   "nbconvert_exporter": "python",
   "pygments_lexer": "ipython3",
   "version": "3.10.4"
  },
  "orig_nbformat": 4,
  "vscode": {
   "interpreter": {
    "hash": "7e1998ff7f8aa20ada591c520b972326324e5ea05489af9e422744c7c09f6dad"
   }
  }
 },
 "nbformat": 4,
 "nbformat_minor": 2
}
